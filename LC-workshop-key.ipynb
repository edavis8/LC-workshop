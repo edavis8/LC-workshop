{
 "cells": [
  {
   "cell_type": "markdown",
   "metadata": {},
   "source": [
    "# Working with pandas dataframes\n",
    "\n",
    "## A soft introduction to data processing in Python\n",
    "\n",
    "\n",
    "### Lesson plan\n",
    "\n",
    "* Explore the Storywrangler Twitter ngram dataset using pandas\n",
    "* Use columns to isolate quantities of interest\n",
    "* Filter rows for subsets of the data\n",
    "* Formulate research questions from the data\n",
    "* Prepare Twitter data for visualization\n",
    "\n",
    "\n",
    "### Learning objectives\n",
    "* Learn basic pandas syntax\n",
    "* Use dataframe operations to make sense of large datasets\n",
    "* Manipulte dataframes to answer research questions\n",
    "* Prepare data for visualizations"
   ]
  },
  {
   "cell_type": "code",
   "execution_count": 2,
   "metadata": {},
   "outputs": [],
   "source": [
    "#import the pandas library\n",
    "import pandas as pd\n",
    "#otter is used for interactive grading\n",
    "import otter\n",
    "grader = otter.Notebook()"
   ]
  },
  {
   "cell_type": "markdown",
   "metadata": {},
   "source": [
    "### What is a dataframe?\n",
    "\n",
    "A dataframe is a data structure arranged by rows and columns, and containing cells with data (like an Excel spreadsheet).\n",
    "\n",
    "\n",
    "### Why dataframes?\n",
    "\n",
    "Dataframes generally a stable format, unlike most excel spreadsheets; changing one cell will likely not affect other cells, and any change to the data is deliberate. It is relatively straightforward to get a subset of the data from a dataframe, with little risk of altering the original. \n",
    "\n",
    "Working with datasets in spreadsheets can quickly become confusing/onerous as the size of the dataset increases.\n",
    "\n",
    "Dataframes provide tools to navigate large datasets without scrolling through the data yourself.\n",
    "\n",
    "Spreadsheets + big data = danger\n",
    "\n",
    "But don't just take my word for it:\n",
    "\n",
    "* Small spreadsheet error costs company six billion dollars: https://qz.com/119578/damn-you-excel-spreadsheets-jp-morgan-edition/\n",
    "\n",
    "* Small spreadsheet error upends world financial policy: https://www.cc.com/video/dcyvro/the-colbert-report-austerity-s-spreadsheet-error\n",
    "\n",
    "* Errors in spreadsheets are the norm: https://arxiv.org/pdf/1602.02601\n",
    "\n",
    "### What is pandas?\n",
    "\n",
    "Pandas is a python library, and the industry/academic standard for dataframe operations in Python. \n"
   ]
  },
  {
   "cell_type": "markdown",
   "metadata": {},
   "source": [
    "## Twitter ngrams example\n",
    "\n",
    "In the following lesson, we will use a dataset cherry picked from the much larger Storywrangler dataset of Twitter ngrams, `twitter-covid.csv`.\n",
    "\n",
    "\n"
   ]
  },
  {
   "cell_type": "markdown",
   "metadata": {},
   "source": [
    "## The dataset: Storywrangler Twitter ngrams\n",
    "\n",
    "* ngram - a string of words of characters of length *n*\n",
    "* ngrams counts collected from 1/10th of Twitter, and ranked for each day\n",
    "* The dataset contains the top 1 million 1-,2-,and 3-grams\n",
    "* Here we have a subset of that data containing keywords related to the COVID pandemic\n",
    "* The data here contain only 1-grams: individual words"
   ]
  },
  {
   "cell_type": "markdown",
   "metadata": {},
   "source": [
    "## The Problem:\n",
    "\n",
    "In the following exercises, we will investigate how the **ranks** of various covid-related **ngrams** change over **time**. \n",
    "\n",
    "Specifically, how has usage of covid-related terms changed on Twitter since 2020, as shown by rank?"
   ]
  },
  {
   "cell_type": "markdown",
   "metadata": {},
   "source": [
    "## Reading in data\n",
    "\n",
    "Much of the data we encounter will be in generic formats like .csv (comma separated values). These generic formats can generally be read into any programming language or spreadsheet software. Spreadsheet file formats like .xlsx can often be converted to .csv's. \n",
    "\n",
    "In pandas, the command for reading a csv is `pd.read_csv(filename)`"
   ]
  },
  {
   "cell_type": "code",
   "execution_count": 3,
   "metadata": {},
   "outputs": [],
   "source": [
    "#The parse_dates argument tells pandas to recognize date strings,\n",
    "#and turn them into datetime objects\n",
    "twitter = pd.read_csv('twitter-covid.csv', parse_dates=True)"
   ]
  },
  {
   "cell_type": "markdown",
   "metadata": {},
   "source": [
    "## Part 1: Gathering basic information"
   ]
  },
  {
   "cell_type": "markdown",
   "metadata": {},
   "source": [
    "Before we get our hands dirty, let's get a general overview of the data. We can do this by using the `.head()` method"
   ]
  },
  {
   "cell_type": "code",
   "execution_count": 4,
   "metadata": {},
   "outputs": [
    {
     "data": {
      "text/html": [
       "<div>\n",
       "<style scoped>\n",
       "    .dataframe tbody tr th:only-of-type {\n",
       "        vertical-align: middle;\n",
       "    }\n",
       "\n",
       "    .dataframe tbody tr th {\n",
       "        vertical-align: top;\n",
       "    }\n",
       "\n",
       "    .dataframe thead th {\n",
       "        text-align: right;\n",
       "    }\n",
       "</style>\n",
       "<table border=\"1\" class=\"dataframe\">\n",
       "  <thead>\n",
       "    <tr style=\"text-align: right;\">\n",
       "      <th></th>\n",
       "      <th>date</th>\n",
       "      <th>count</th>\n",
       "      <th>count_no_rt</th>\n",
       "      <th>rank</th>\n",
       "      <th>rank_no_rt</th>\n",
       "      <th>freq</th>\n",
       "      <th>freq_no_rt</th>\n",
       "      <th>odds</th>\n",
       "      <th>odds_no_rt</th>\n",
       "      <th>ngram</th>\n",
       "    </tr>\n",
       "  </thead>\n",
       "  <tbody>\n",
       "    <tr>\n",
       "      <th>0</th>\n",
       "      <td>2010-01-01</td>\n",
       "      <td>137.0</td>\n",
       "      <td>132.0</td>\n",
       "      <td>10255.0</td>\n",
       "      <td>9813.0</td>\n",
       "      <td>0.000005</td>\n",
       "      <td>0.000005</td>\n",
       "      <td>204303.985401</td>\n",
       "      <td>192426.121212</td>\n",
       "      <td>Louisiana</td>\n",
       "    </tr>\n",
       "    <tr>\n",
       "      <th>1</th>\n",
       "      <td>2010-01-02</td>\n",
       "      <td>110.0</td>\n",
       "      <td>102.0</td>\n",
       "      <td>12777.0</td>\n",
       "      <td>12505.0</td>\n",
       "      <td>0.000004</td>\n",
       "      <td>0.000004</td>\n",
       "      <td>258598.600000</td>\n",
       "      <td>251822.558824</td>\n",
       "      <td>Louisiana</td>\n",
       "    </tr>\n",
       "    <tr>\n",
       "      <th>2</th>\n",
       "      <td>2010-01-03</td>\n",
       "      <td>109.0</td>\n",
       "      <td>102.0</td>\n",
       "      <td>13713.0</td>\n",
       "      <td>13298.5</td>\n",
       "      <td>0.000004</td>\n",
       "      <td>0.000004</td>\n",
       "      <td>285633.018349</td>\n",
       "      <td>274713.235294</td>\n",
       "      <td>Louisiana</td>\n",
       "    </tr>\n",
       "    <tr>\n",
       "      <th>3</th>\n",
       "      <td>2010-01-04</td>\n",
       "      <td>143.0</td>\n",
       "      <td>131.0</td>\n",
       "      <td>12164.5</td>\n",
       "      <td>11886.0</td>\n",
       "      <td>0.000004</td>\n",
       "      <td>0.000004</td>\n",
       "      <td>234455.846154</td>\n",
       "      <td>228151.603053</td>\n",
       "      <td>Louisiana</td>\n",
       "    </tr>\n",
       "    <tr>\n",
       "      <th>4</th>\n",
       "      <td>2010-01-05</td>\n",
       "      <td>132.0</td>\n",
       "      <td>124.0</td>\n",
       "      <td>12889.0</td>\n",
       "      <td>12276.5</td>\n",
       "      <td>0.000004</td>\n",
       "      <td>0.000004</td>\n",
       "      <td>257455.416667</td>\n",
       "      <td>242982.137097</td>\n",
       "      <td>Louisiana</td>\n",
       "    </tr>\n",
       "    <tr>\n",
       "      <th>5</th>\n",
       "      <td>2010-01-06</td>\n",
       "      <td>124.0</td>\n",
       "      <td>110.0</td>\n",
       "      <td>14390.5</td>\n",
       "      <td>14413.5</td>\n",
       "      <td>0.000004</td>\n",
       "      <td>0.000003</td>\n",
       "      <td>285689.080645</td>\n",
       "      <td>286506.881818</td>\n",
       "      <td>Louisiana</td>\n",
       "    </tr>\n",
       "    <tr>\n",
       "      <th>6</th>\n",
       "      <td>2010-01-07</td>\n",
       "      <td>158.0</td>\n",
       "      <td>140.0</td>\n",
       "      <td>12303.0</td>\n",
       "      <td>12327.5</td>\n",
       "      <td>0.000004</td>\n",
       "      <td>0.000004</td>\n",
       "      <td>233635.512658</td>\n",
       "      <td>234394.414286</td>\n",
       "      <td>Louisiana</td>\n",
       "    </tr>\n",
       "    <tr>\n",
       "      <th>7</th>\n",
       "      <td>2010-01-08</td>\n",
       "      <td>133.0</td>\n",
       "      <td>121.0</td>\n",
       "      <td>13575.0</td>\n",
       "      <td>13304.5</td>\n",
       "      <td>0.000004</td>\n",
       "      <td>0.000004</td>\n",
       "      <td>268806.676692</td>\n",
       "      <td>261922.008264</td>\n",
       "      <td>Louisiana</td>\n",
       "    </tr>\n",
       "    <tr>\n",
       "      <th>8</th>\n",
       "      <td>2010-01-09</td>\n",
       "      <td>112.0</td>\n",
       "      <td>102.0</td>\n",
       "      <td>13945.5</td>\n",
       "      <td>13754.0</td>\n",
       "      <td>0.000003</td>\n",
       "      <td>0.000004</td>\n",
       "      <td>286931.758929</td>\n",
       "      <td>281495.490196</td>\n",
       "      <td>Louisiana</td>\n",
       "    </tr>\n",
       "    <tr>\n",
       "      <th>9</th>\n",
       "      <td>2010-01-10</td>\n",
       "      <td>107.0</td>\n",
       "      <td>102.0</td>\n",
       "      <td>14381.5</td>\n",
       "      <td>13697.5</td>\n",
       "      <td>0.000003</td>\n",
       "      <td>0.000004</td>\n",
       "      <td>303117.196262</td>\n",
       "      <td>284283.352941</td>\n",
       "      <td>Louisiana</td>\n",
       "    </tr>\n",
       "  </tbody>\n",
       "</table>\n",
       "</div>"
      ],
      "text/plain": [
       "         date  count  count_no_rt     rank  rank_no_rt      freq  freq_no_rt  \\\n",
       "0  2010-01-01  137.0        132.0  10255.0      9813.0  0.000005    0.000005   \n",
       "1  2010-01-02  110.0        102.0  12777.0     12505.0  0.000004    0.000004   \n",
       "2  2010-01-03  109.0        102.0  13713.0     13298.5  0.000004    0.000004   \n",
       "3  2010-01-04  143.0        131.0  12164.5     11886.0  0.000004    0.000004   \n",
       "4  2010-01-05  132.0        124.0  12889.0     12276.5  0.000004    0.000004   \n",
       "5  2010-01-06  124.0        110.0  14390.5     14413.5  0.000004    0.000003   \n",
       "6  2010-01-07  158.0        140.0  12303.0     12327.5  0.000004    0.000004   \n",
       "7  2010-01-08  133.0        121.0  13575.0     13304.5  0.000004    0.000004   \n",
       "8  2010-01-09  112.0        102.0  13945.5     13754.0  0.000003    0.000004   \n",
       "9  2010-01-10  107.0        102.0  14381.5     13697.5  0.000003    0.000004   \n",
       "\n",
       "            odds     odds_no_rt      ngram  \n",
       "0  204303.985401  192426.121212  Louisiana  \n",
       "1  258598.600000  251822.558824  Louisiana  \n",
       "2  285633.018349  274713.235294  Louisiana  \n",
       "3  234455.846154  228151.603053  Louisiana  \n",
       "4  257455.416667  242982.137097  Louisiana  \n",
       "5  285689.080645  286506.881818  Louisiana  \n",
       "6  233635.512658  234394.414286  Louisiana  \n",
       "7  268806.676692  261922.008264  Louisiana  \n",
       "8  286931.758929  281495.490196  Louisiana  \n",
       "9  303117.196262  284283.352941  Louisiana  "
      ]
     },
     "execution_count": 4,
     "metadata": {},
     "output_type": "execute_result"
    }
   ],
   "source": [
    "#the .head(n) method gives us the first n rows of the dataframe\n",
    "twitter.head(10)"
   ]
  },
  {
   "cell_type": "markdown",
   "metadata": {},
   "source": [
    "### Documentation\n",
    "\n",
    "Documentation is an essential resource when programming with libraries. It is likely that most problem you'd like to solve using the library have been anticipated by the authors, and are represented in the documentation. \n",
    "\n",
    "Official pandas web documentation:\n",
    "\n",
    "* https://pandas.pydata.org/docs/index.html\n",
    "\n",
    "Accessing documentation within Python:\n",
    "\n",
    "* For documentation on an object: `help(thing)`\n",
    "\n"
   ]
  },
  {
   "cell_type": "code",
   "execution_count": 5,
   "metadata": {},
   "outputs": [
    {
     "name": "stdout",
     "output_type": "stream",
     "text": [
      "Help on method head in module pandas.core.generic:\n",
      "\n",
      "head(n: int = 5) -> ~FrameOrSeries method of pandas.core.frame.DataFrame instance\n",
      "    Return the first `n` rows.\n",
      "    \n",
      "    This function returns the first `n` rows for the object based\n",
      "    on position. It is useful for quickly testing if your object\n",
      "    has the right type of data in it.\n",
      "    \n",
      "    For negative values of `n`, this function returns all rows except\n",
      "    the last `n` rows, equivalent to ``df[:-n]``.\n",
      "    \n",
      "    Parameters\n",
      "    ----------\n",
      "    n : int, default 5\n",
      "        Number of rows to select.\n",
      "    \n",
      "    Returns\n",
      "    -------\n",
      "    same type as caller\n",
      "        The first `n` rows of the caller object.\n",
      "    \n",
      "    See Also\n",
      "    --------\n",
      "    DataFrame.tail: Returns the last `n` rows.\n",
      "    \n",
      "    Examples\n",
      "    --------\n",
      "    >>> df = pd.DataFrame({'animal': ['alligator', 'bee', 'falcon', 'lion',\n",
      "    ...                    'monkey', 'parrot', 'shark', 'whale', 'zebra']})\n",
      "    >>> df\n",
      "          animal\n",
      "    0  alligator\n",
      "    1        bee\n",
      "    2     falcon\n",
      "    3       lion\n",
      "    4     monkey\n",
      "    5     parrot\n",
      "    6      shark\n",
      "    7      whale\n",
      "    8      zebra\n",
      "    \n",
      "    Viewing the first 5 lines\n",
      "    \n",
      "    >>> df.head()\n",
      "          animal\n",
      "    0  alligator\n",
      "    1        bee\n",
      "    2     falcon\n",
      "    3       lion\n",
      "    4     monkey\n",
      "    \n",
      "    Viewing the first `n` lines (three in this case)\n",
      "    \n",
      "    >>> df.head(3)\n",
      "          animal\n",
      "    0  alligator\n",
      "    1        bee\n",
      "    2     falcon\n",
      "    \n",
      "    For negative values of `n`\n",
      "    \n",
      "    >>> df.head(-3)\n",
      "          animal\n",
      "    0  alligator\n",
      "    1        bee\n",
      "    2     falcon\n",
      "    3       lion\n",
      "    4     monkey\n",
      "    5     parrot\n",
      "\n"
     ]
    }
   ],
   "source": [
    "help(twitter.head)"
   ]
  },
  {
   "cell_type": "markdown",
   "metadata": {},
   "source": [
    "We know that Twitter produces an enormous amount of data, but just how big is our dataset?"
   ]
  },
  {
   "cell_type": "code",
   "execution_count": 7,
   "metadata": {},
   "outputs": [
    {
     "data": {
      "text/plain": [
       "(159402, 10)"
      ]
     },
     "execution_count": 7,
     "metadata": {},
     "output_type": "execute_result"
    }
   ],
   "source": [
    "#the .shape attribute tells us the dimensions of the dataframe\n",
    "twitter.shape"
   ]
  },
  {
   "cell_type": "markdown",
   "metadata": {},
   "source": [
    "Wow, 159,402 rows is a lot of data.\n",
    "\n",
    "Would scrolling through all of it give us useful information, or would we be wasting our time?\n",
    "\n",
    "While this amount of data may seem intimidating at first, as data scientists we are well equipped to make some sense of it. \n",
    "\n",
    "That said, it's time to dissect the important parts of this data:"
   ]
  },
  {
   "cell_type": "markdown",
   "metadata": {},
   "source": [
    "## Part 2: Using columns\n",
    "\n",
    "We can use columns of the data to isolate quantities or metrics of interest for the whole dataset"
   ]
  },
  {
   "cell_type": "code",
   "execution_count": 9,
   "metadata": {},
   "outputs": [
    {
     "data": {
      "text/plain": [
       "Index(['date', 'count', 'count_no_rt', 'rank', 'rank_no_rt', 'freq',\n",
       "       'freq_no_rt', 'odds', 'odds_no_rt', 'ngram'],\n",
       "      dtype='object')"
      ]
     },
     "execution_count": 9,
     "metadata": {},
     "output_type": "execute_result"
    }
   ],
   "source": [
    "#the .columns attribute will tell us the column names\n",
    "twitter.columns"
   ]
  },
  {
   "cell_type": "markdown",
   "metadata": {},
   "source": [
    "Using the section of the DataFrame above, what are our columns of interest?"
   ]
  },
  {
   "cell_type": "markdown",
   "metadata": {},
   "source": [
    "To select a single column in a pandas DataFrame use: `df[column_name]`\n",
    "\n",
    "For example:"
   ]
  },
  {
   "cell_type": "code",
   "execution_count": 10,
   "metadata": {},
   "outputs": [
    {
     "data": {
      "text/plain": [
       "0           137.0\n",
       "1           110.0\n",
       "2           109.0\n",
       "3           143.0\n",
       "4           132.0\n",
       "           ...   \n",
       "159397     9978.0\n",
       "159398     9340.0\n",
       "159399     4580.0\n",
       "159400    16042.0\n",
       "159401    15173.0\n",
       "Name: count, Length: 159402, dtype: float64"
      ]
     },
     "execution_count": 10,
     "metadata": {},
     "output_type": "execute_result"
    }
   ],
   "source": [
    "twitter['count']\n",
    "#returns only the count column"
   ]
  },
  {
   "cell_type": "markdown",
   "metadata": {},
   "source": [
    "To select multiple columns use: `df[list_of_columns]`\n",
    "\n",
    "For example:"
   ]
  },
  {
   "cell_type": "code",
   "execution_count": 11,
   "metadata": {},
   "outputs": [
    {
     "data": {
      "text/html": [
       "<div>\n",
       "<style scoped>\n",
       "    .dataframe tbody tr th:only-of-type {\n",
       "        vertical-align: middle;\n",
       "    }\n",
       "\n",
       "    .dataframe tbody tr th {\n",
       "        vertical-align: top;\n",
       "    }\n",
       "\n",
       "    .dataframe thead th {\n",
       "        text-align: right;\n",
       "    }\n",
       "</style>\n",
       "<table border=\"1\" class=\"dataframe\">\n",
       "  <thead>\n",
       "    <tr style=\"text-align: right;\">\n",
       "      <th></th>\n",
       "      <th>ngram</th>\n",
       "      <th>count</th>\n",
       "    </tr>\n",
       "  </thead>\n",
       "  <tbody>\n",
       "    <tr>\n",
       "      <th>0</th>\n",
       "      <td>Louisiana</td>\n",
       "      <td>137.0</td>\n",
       "    </tr>\n",
       "    <tr>\n",
       "      <th>1</th>\n",
       "      <td>Louisiana</td>\n",
       "      <td>110.0</td>\n",
       "    </tr>\n",
       "    <tr>\n",
       "      <th>2</th>\n",
       "      <td>Louisiana</td>\n",
       "      <td>109.0</td>\n",
       "    </tr>\n",
       "    <tr>\n",
       "      <th>3</th>\n",
       "      <td>Louisiana</td>\n",
       "      <td>143.0</td>\n",
       "    </tr>\n",
       "    <tr>\n",
       "      <th>4</th>\n",
       "      <td>Louisiana</td>\n",
       "      <td>132.0</td>\n",
       "    </tr>\n",
       "    <tr>\n",
       "      <th>...</th>\n",
       "      <td>...</td>\n",
       "      <td>...</td>\n",
       "    </tr>\n",
       "    <tr>\n",
       "      <th>159397</th>\n",
       "      <td>mandate</td>\n",
       "      <td>9978.0</td>\n",
       "    </tr>\n",
       "    <tr>\n",
       "      <th>159398</th>\n",
       "      <td>mandate</td>\n",
       "      <td>9340.0</td>\n",
       "    </tr>\n",
       "    <tr>\n",
       "      <th>159399</th>\n",
       "      <td>mandate</td>\n",
       "      <td>4580.0</td>\n",
       "    </tr>\n",
       "    <tr>\n",
       "      <th>159400</th>\n",
       "      <td>mandate</td>\n",
       "      <td>16042.0</td>\n",
       "    </tr>\n",
       "    <tr>\n",
       "      <th>159401</th>\n",
       "      <td>mandate</td>\n",
       "      <td>15173.0</td>\n",
       "    </tr>\n",
       "  </tbody>\n",
       "</table>\n",
       "<p>159402 rows × 2 columns</p>\n",
       "</div>"
      ],
      "text/plain": [
       "            ngram    count\n",
       "0       Louisiana    137.0\n",
       "1       Louisiana    110.0\n",
       "2       Louisiana    109.0\n",
       "3       Louisiana    143.0\n",
       "4       Louisiana    132.0\n",
       "...           ...      ...\n",
       "159397    mandate   9978.0\n",
       "159398    mandate   9340.0\n",
       "159399    mandate   4580.0\n",
       "159400    mandate  16042.0\n",
       "159401    mandate  15173.0\n",
       "\n",
       "[159402 rows x 2 columns]"
      ]
     },
     "execution_count": 11,
     "metadata": {},
     "output_type": "execute_result"
    }
   ],
   "source": [
    "twitter[['ngram', 'count']]\n",
    "#returns both the ngram and count columns"
   ]
  },
  {
   "cell_type": "markdown",
   "metadata": {},
   "source": [
    "## Question 1\n",
    "\n",
    "Now you try. Select the `date`, `ngram`, and `rank` columns. From the `twitter` DataFrame"
   ]
  },
  {
   "cell_type": "code",
   "execution_count": 12,
   "metadata": {
    "scrolled": true
   },
   "outputs": [
    {
     "data": {
      "text/html": [
       "<div>\n",
       "<style scoped>\n",
       "    .dataframe tbody tr th:only-of-type {\n",
       "        vertical-align: middle;\n",
       "    }\n",
       "\n",
       "    .dataframe tbody tr th {\n",
       "        vertical-align: top;\n",
       "    }\n",
       "\n",
       "    .dataframe thead th {\n",
       "        text-align: right;\n",
       "    }\n",
       "</style>\n",
       "<table border=\"1\" class=\"dataframe\">\n",
       "  <thead>\n",
       "    <tr style=\"text-align: right;\">\n",
       "      <th></th>\n",
       "      <th>date</th>\n",
       "      <th>ngram</th>\n",
       "      <th>rank</th>\n",
       "    </tr>\n",
       "  </thead>\n",
       "  <tbody>\n",
       "    <tr>\n",
       "      <th>0</th>\n",
       "      <td>2010-01-01</td>\n",
       "      <td>Louisiana</td>\n",
       "      <td>10255.0</td>\n",
       "    </tr>\n",
       "    <tr>\n",
       "      <th>1</th>\n",
       "      <td>2010-01-02</td>\n",
       "      <td>Louisiana</td>\n",
       "      <td>12777.0</td>\n",
       "    </tr>\n",
       "    <tr>\n",
       "      <th>2</th>\n",
       "      <td>2010-01-03</td>\n",
       "      <td>Louisiana</td>\n",
       "      <td>13713.0</td>\n",
       "    </tr>\n",
       "    <tr>\n",
       "      <th>3</th>\n",
       "      <td>2010-01-04</td>\n",
       "      <td>Louisiana</td>\n",
       "      <td>12164.5</td>\n",
       "    </tr>\n",
       "    <tr>\n",
       "      <th>4</th>\n",
       "      <td>2010-01-05</td>\n",
       "      <td>Louisiana</td>\n",
       "      <td>12889.0</td>\n",
       "    </tr>\n",
       "    <tr>\n",
       "      <th>5</th>\n",
       "      <td>2010-01-06</td>\n",
       "      <td>Louisiana</td>\n",
       "      <td>14390.5</td>\n",
       "    </tr>\n",
       "    <tr>\n",
       "      <th>6</th>\n",
       "      <td>2010-01-07</td>\n",
       "      <td>Louisiana</td>\n",
       "      <td>12303.0</td>\n",
       "    </tr>\n",
       "    <tr>\n",
       "      <th>7</th>\n",
       "      <td>2010-01-08</td>\n",
       "      <td>Louisiana</td>\n",
       "      <td>13575.0</td>\n",
       "    </tr>\n",
       "    <tr>\n",
       "      <th>8</th>\n",
       "      <td>2010-01-09</td>\n",
       "      <td>Louisiana</td>\n",
       "      <td>13945.5</td>\n",
       "    </tr>\n",
       "    <tr>\n",
       "      <th>9</th>\n",
       "      <td>2010-01-10</td>\n",
       "      <td>Louisiana</td>\n",
       "      <td>14381.5</td>\n",
       "    </tr>\n",
       "  </tbody>\n",
       "</table>\n",
       "</div>"
      ],
      "text/plain": [
       "         date      ngram     rank\n",
       "0  2010-01-01  Louisiana  10255.0\n",
       "1  2010-01-02  Louisiana  12777.0\n",
       "2  2010-01-03  Louisiana  13713.0\n",
       "3  2010-01-04  Louisiana  12164.5\n",
       "4  2010-01-05  Louisiana  12889.0\n",
       "5  2010-01-06  Louisiana  14390.5\n",
       "6  2010-01-07  Louisiana  12303.0\n",
       "7  2010-01-08  Louisiana  13575.0\n",
       "8  2010-01-09  Louisiana  13945.5\n",
       "9  2010-01-10  Louisiana  14381.5"
      ]
     },
     "execution_count": 12,
     "metadata": {},
     "output_type": "execute_result"
    }
   ],
   "source": [
    "###Your solution here v\n",
    "\n",
    "q1 = twitter[['date', 'ngram', 'rank']]\n",
    "\n",
    "###Your solution here ^\n",
    "\n",
    "q1.head(10)"
   ]
  },
  {
   "cell_type": "code",
   "execution_count": 13,
   "metadata": {},
   "outputs": [
    {
     "data": {
      "text/html": [
       "<p><strong><pre style='display: inline;'>q1</pre></strong> passed!</p>"
      ],
      "text/plain": [
       "q1 results: All test cases passed!"
      ]
     },
     "execution_count": 13,
     "metadata": {},
     "output_type": "execute_result"
    }
   ],
   "source": [
    "grader.check('q1')"
   ]
  },
  {
   "cell_type": "markdown",
   "metadata": {},
   "source": [
    "## Part 3: Selecting and filtering rows\n",
    "\n",
    "Now that we've isolated our columns of interest, how can we filter out the rows we need?\n",
    "\n",
    "One of the ways to select data by values is roughly: `data[true/false operation involving data]`\n",
    "\n",
    "Breaking this down in English: \"Select from the dataframe, rows such that the statement in brackets is true\""
   ]
  },
  {
   "cell_type": "markdown",
   "metadata": {},
   "source": [
    "First, lets filter by `ngram`. We don't yet know which `ngrams` are in the dataset, and we can see from the snapshot above that ngrams are repeated in many rows for distinct dates. Therefore, we'd like to know the unique values contained in the `ngram` column. \n",
    "\n",
    "We can do this using the `.unique()` method."
   ]
  },
  {
   "cell_type": "code",
   "execution_count": 14,
   "metadata": {},
   "outputs": [
    {
     "data": {
      "text/plain": [
       "array(['Louisiana', 'Brazil', 'NYC', 'ventilator', 'taste', 'masks',\n",
       "       'J&J', 'Florida', 'California', 'UK', 'Connecticut', 'spread',\n",
       "       'US', 'China', 'Pfizer', 'Johnson', 'pandemic', 'testing',\n",
       "       'Belgium', 'covid', 'India', 'Missouri', 'Moderna', 'anti-vaxxers',\n",
       "       'ventilators', 'mask', 'Texas', 'tested', 'Australia', 'virus',\n",
       "       'Fauci', 'anti-vax', 'NZ', 'lockdown', 'vaccine', 'smell',\n",
       "       'vaccinated', 'hospital', 'COVID', 'beds', 'delta', 'mandate'],\n",
       "      dtype=object)"
      ]
     },
     "execution_count": 14,
     "metadata": {},
     "output_type": "execute_result"
    }
   ],
   "source": [
    "#the .unique() method will return the unique elements of a column or row\n",
    "twitter['ngram'].unique()"
   ]
  },
  {
   "cell_type": "markdown",
   "metadata": {},
   "source": [
    "We can see that the ngrams in the dataset are related to the covid pandemic, and come from different subjects within the discourse. Some are states or countries, while some are popular keywords. "
   ]
  },
  {
   "cell_type": "markdown",
   "metadata": {},
   "source": [
    "### Filter by text\n",
    "\n",
    "Now, to select our n-grams of interest, we'll use what we learned with dates, insted applying the `.isin()` method."
   ]
  },
  {
   "cell_type": "code",
   "execution_count": null,
   "metadata": {},
   "outputs": [],
   "source": [
    "#.isin() example\n",
    "twitter['ngram'].isin(['Brazil'])\n",
    "#Selects rows whose ngram column belongs to the list containing only 'Brazil'"
   ]
  },
  {
   "cell_type": "markdown",
   "metadata": {},
   "source": [
    "## Question 2\n",
    "\n",
    "Select only rows whose ngram is a country."
   ]
  },
  {
   "cell_type": "code",
   "execution_count": null,
   "metadata": {
    "scrolled": true
   },
   "outputs": [],
   "source": [
    "#First, populate a list with the names of countries from the set above\n",
    "countries = ['Australia', 'Belgium', 'NZ', 'Brazil', 'India', 'Canada', 'US']\n",
    "\n",
    "#Now, select only the relevant data fromt the dataframe\n",
    "\n",
    "#Your answer here v \n",
    "\n",
    "q2 = twitter[twitter['ngram'].isin(countries)]\n",
    "\n",
    "#Your answer here ^\n",
    "\n",
    "print(set(q2['ngram']))\n",
    "\n",
    "q2.head(10)"
   ]
  },
  {
   "cell_type": "code",
   "execution_count": null,
   "metadata": {
    "scrolled": true
   },
   "outputs": [],
   "source": [
    "grader.check('q2')"
   ]
  },
  {
   "cell_type": "markdown",
   "metadata": {},
   "source": [
    "## Part 4: Selecting and filtering cont.\n",
    " "
   ]
  },
  {
   "cell_type": "markdown",
   "metadata": {},
   "source": [
    "### Filter by Date\n",
    "\n",
    "We can filter by date in a similar fashion, using the `date` column instead."
   ]
  },
  {
   "cell_type": "code",
   "execution_count": 16,
   "metadata": {
    "scrolled": true
   },
   "outputs": [
    {
     "data": {
      "text/html": [
       "<div>\n",
       "<style scoped>\n",
       "    .dataframe tbody tr th:only-of-type {\n",
       "        vertical-align: middle;\n",
       "    }\n",
       "\n",
       "    .dataframe tbody tr th {\n",
       "        vertical-align: top;\n",
       "    }\n",
       "\n",
       "    .dataframe thead th {\n",
       "        text-align: right;\n",
       "    }\n",
       "</style>\n",
       "<table border=\"1\" class=\"dataframe\">\n",
       "  <thead>\n",
       "    <tr style=\"text-align: right;\">\n",
       "      <th></th>\n",
       "      <th>date</th>\n",
       "      <th>count</th>\n",
       "      <th>count_no_rt</th>\n",
       "      <th>rank</th>\n",
       "      <th>rank_no_rt</th>\n",
       "      <th>freq</th>\n",
       "      <th>freq_no_rt</th>\n",
       "      <th>odds</th>\n",
       "      <th>odds_no_rt</th>\n",
       "      <th>ngram</th>\n",
       "    </tr>\n",
       "  </thead>\n",
       "  <tbody>\n",
       "    <tr>\n",
       "      <th>0</th>\n",
       "      <td>2010-01-01</td>\n",
       "      <td>137.0</td>\n",
       "      <td>132.0</td>\n",
       "      <td>10255.0</td>\n",
       "      <td>9813.0</td>\n",
       "      <td>4.894667e-06</td>\n",
       "      <td>5.196800e-06</td>\n",
       "      <td>2.043040e+05</td>\n",
       "      <td>1.924261e+05</td>\n",
       "      <td>Louisiana</td>\n",
       "    </tr>\n",
       "    <tr>\n",
       "      <th>1</th>\n",
       "      <td>2010-01-02</td>\n",
       "      <td>110.0</td>\n",
       "      <td>102.0</td>\n",
       "      <td>12777.0</td>\n",
       "      <td>12505.0</td>\n",
       "      <td>3.866997e-06</td>\n",
       "      <td>3.971050e-06</td>\n",
       "      <td>2.585986e+05</td>\n",
       "      <td>2.518226e+05</td>\n",
       "      <td>Louisiana</td>\n",
       "    </tr>\n",
       "    <tr>\n",
       "      <th>2</th>\n",
       "      <td>2010-01-03</td>\n",
       "      <td>109.0</td>\n",
       "      <td>102.0</td>\n",
       "      <td>13713.0</td>\n",
       "      <td>13298.5</td>\n",
       "      <td>3.500996e-06</td>\n",
       "      <td>3.640160e-06</td>\n",
       "      <td>2.856330e+05</td>\n",
       "      <td>2.747132e+05</td>\n",
       "      <td>Louisiana</td>\n",
       "    </tr>\n",
       "    <tr>\n",
       "      <th>3</th>\n",
       "      <td>2010-01-04</td>\n",
       "      <td>143.0</td>\n",
       "      <td>131.0</td>\n",
       "      <td>12164.5</td>\n",
       "      <td>11886.0</td>\n",
       "      <td>4.265195e-06</td>\n",
       "      <td>4.383051e-06</td>\n",
       "      <td>2.344558e+05</td>\n",
       "      <td>2.281516e+05</td>\n",
       "      <td>Louisiana</td>\n",
       "    </tr>\n",
       "    <tr>\n",
       "      <th>4</th>\n",
       "      <td>2010-01-05</td>\n",
       "      <td>132.0</td>\n",
       "      <td>124.0</td>\n",
       "      <td>12889.0</td>\n",
       "      <td>12276.5</td>\n",
       "      <td>3.884168e-06</td>\n",
       "      <td>4.115529e-06</td>\n",
       "      <td>2.574554e+05</td>\n",
       "      <td>2.429821e+05</td>\n",
       "      <td>Louisiana</td>\n",
       "    </tr>\n",
       "    <tr>\n",
       "      <th>...</th>\n",
       "      <td>...</td>\n",
       "      <td>...</td>\n",
       "      <td>...</td>\n",
       "      <td>...</td>\n",
       "      <td>...</td>\n",
       "      <td>...</td>\n",
       "      <td>...</td>\n",
       "      <td>...</td>\n",
       "      <td>...</td>\n",
       "      <td>...</td>\n",
       "    </tr>\n",
       "    <tr>\n",
       "      <th>156969</th>\n",
       "      <td>2014-12-27</td>\n",
       "      <td>120.0</td>\n",
       "      <td>68.0</td>\n",
       "      <td>50237.0</td>\n",
       "      <td>47014.0</td>\n",
       "      <td>6.645458e-07</td>\n",
       "      <td>6.879280e-07</td>\n",
       "      <td>1.504787e+06</td>\n",
       "      <td>1.453640e+06</td>\n",
       "      <td>mandate</td>\n",
       "    </tr>\n",
       "    <tr>\n",
       "      <th>156970</th>\n",
       "      <td>2014-12-28</td>\n",
       "      <td>129.0</td>\n",
       "      <td>74.0</td>\n",
       "      <td>48657.0</td>\n",
       "      <td>44626.0</td>\n",
       "      <td>6.902870e-07</td>\n",
       "      <td>7.368409e-07</td>\n",
       "      <td>1.448673e+06</td>\n",
       "      <td>1.357145e+06</td>\n",
       "      <td>mandate</td>\n",
       "    </tr>\n",
       "    <tr>\n",
       "      <th>156971</th>\n",
       "      <td>2014-12-29</td>\n",
       "      <td>150.0</td>\n",
       "      <td>84.0</td>\n",
       "      <td>46295.0</td>\n",
       "      <td>43575.5</td>\n",
       "      <td>7.390931e-07</td>\n",
       "      <td>7.579760e-07</td>\n",
       "      <td>1.353010e+06</td>\n",
       "      <td>1.319303e+06</td>\n",
       "      <td>mandate</td>\n",
       "    </tr>\n",
       "    <tr>\n",
       "      <th>156972</th>\n",
       "      <td>2014-12-30</td>\n",
       "      <td>232.0</td>\n",
       "      <td>152.0</td>\n",
       "      <td>34237.5</td>\n",
       "      <td>28913.5</td>\n",
       "      <td>1.127610e-06</td>\n",
       "      <td>1.350927e-06</td>\n",
       "      <td>8.868315e+05</td>\n",
       "      <td>7.402327e+05</td>\n",
       "      <td>mandate</td>\n",
       "    </tr>\n",
       "    <tr>\n",
       "      <th>156973</th>\n",
       "      <td>2014-12-31</td>\n",
       "      <td>197.0</td>\n",
       "      <td>111.0</td>\n",
       "      <td>37533.5</td>\n",
       "      <td>35462.0</td>\n",
       "      <td>9.225390e-07</td>\n",
       "      <td>9.424651e-07</td>\n",
       "      <td>1.083965e+06</td>\n",
       "      <td>1.061047e+06</td>\n",
       "      <td>mandate</td>\n",
       "    </tr>\n",
       "  </tbody>\n",
       "</table>\n",
       "<p>65547 rows × 10 columns</p>\n",
       "</div>"
      ],
      "text/plain": [
       "              date  count  count_no_rt     rank  rank_no_rt          freq  \\\n",
       "0       2010-01-01  137.0        132.0  10255.0      9813.0  4.894667e-06   \n",
       "1       2010-01-02  110.0        102.0  12777.0     12505.0  3.866997e-06   \n",
       "2       2010-01-03  109.0        102.0  13713.0     13298.5  3.500996e-06   \n",
       "3       2010-01-04  143.0        131.0  12164.5     11886.0  4.265195e-06   \n",
       "4       2010-01-05  132.0        124.0  12889.0     12276.5  3.884168e-06   \n",
       "...            ...    ...          ...      ...         ...           ...   \n",
       "156969  2014-12-27  120.0         68.0  50237.0     47014.0  6.645458e-07   \n",
       "156970  2014-12-28  129.0         74.0  48657.0     44626.0  6.902870e-07   \n",
       "156971  2014-12-29  150.0         84.0  46295.0     43575.5  7.390931e-07   \n",
       "156972  2014-12-30  232.0        152.0  34237.5     28913.5  1.127610e-06   \n",
       "156973  2014-12-31  197.0        111.0  37533.5     35462.0  9.225390e-07   \n",
       "\n",
       "          freq_no_rt          odds    odds_no_rt      ngram  \n",
       "0       5.196800e-06  2.043040e+05  1.924261e+05  Louisiana  \n",
       "1       3.971050e-06  2.585986e+05  2.518226e+05  Louisiana  \n",
       "2       3.640160e-06  2.856330e+05  2.747132e+05  Louisiana  \n",
       "3       4.383051e-06  2.344558e+05  2.281516e+05  Louisiana  \n",
       "4       4.115529e-06  2.574554e+05  2.429821e+05  Louisiana  \n",
       "...              ...           ...           ...        ...  \n",
       "156969  6.879280e-07  1.504787e+06  1.453640e+06    mandate  \n",
       "156970  7.368409e-07  1.448673e+06  1.357145e+06    mandate  \n",
       "156971  7.579760e-07  1.353010e+06  1.319303e+06    mandate  \n",
       "156972  1.350927e-06  8.868315e+05  7.402327e+05    mandate  \n",
       "156973  9.424651e-07  1.083965e+06  1.061047e+06    mandate  \n",
       "\n",
       "[65547 rows x 10 columns]"
      ]
     },
     "execution_count": 16,
     "metadata": {},
     "output_type": "execute_result"
    }
   ],
   "source": [
    "#select only observations that occured before 2015\n",
    "twitter[twitter['date']<'2015-01-01']"
   ]
  },
  {
   "cell_type": "markdown",
   "metadata": {},
   "source": [
    "### Using multilple conditions\n",
    "\n",
    "Similar to the above example, we can select using multiple conditions.\n",
    "Here, `&` denotes \"and\", and `|` denotes inclusive \"or\"\n",
    "\n",
    "For example: `df[(condition 1) & (condition 2)]`"
   ]
  },
  {
   "cell_type": "code",
   "execution_count": 17,
   "metadata": {},
   "outputs": [
    {
     "data": {
      "text/html": [
       "<div>\n",
       "<style scoped>\n",
       "    .dataframe tbody tr th:only-of-type {\n",
       "        vertical-align: middle;\n",
       "    }\n",
       "\n",
       "    .dataframe tbody tr th {\n",
       "        vertical-align: top;\n",
       "    }\n",
       "\n",
       "    .dataframe thead th {\n",
       "        text-align: right;\n",
       "    }\n",
       "</style>\n",
       "<table border=\"1\" class=\"dataframe\">\n",
       "  <thead>\n",
       "    <tr style=\"text-align: right;\">\n",
       "      <th></th>\n",
       "      <th>date</th>\n",
       "      <th>count</th>\n",
       "      <th>count_no_rt</th>\n",
       "      <th>rank</th>\n",
       "      <th>rank_no_rt</th>\n",
       "      <th>freq</th>\n",
       "      <th>freq_no_rt</th>\n",
       "      <th>odds</th>\n",
       "      <th>odds_no_rt</th>\n",
       "      <th>ngram</th>\n",
       "    </tr>\n",
       "  </thead>\n",
       "  <tbody>\n",
       "    <tr>\n",
       "      <th>1826</th>\n",
       "      <td>2015-01-01</td>\n",
       "      <td>860.0</td>\n",
       "      <td>435.0</td>\n",
       "      <td>12328.0</td>\n",
       "      <td>12867.5</td>\n",
       "      <td>4.115597e-06</td>\n",
       "      <td>3.829555e-06</td>\n",
       "      <td>2.429781e+05</td>\n",
       "      <td>2.611269e+05</td>\n",
       "      <td>Louisiana</td>\n",
       "    </tr>\n",
       "    <tr>\n",
       "      <th>1827</th>\n",
       "      <td>2015-01-02</td>\n",
       "      <td>747.0</td>\n",
       "      <td>386.0</td>\n",
       "      <td>14021.0</td>\n",
       "      <td>14495.0</td>\n",
       "      <td>3.638337e-06</td>\n",
       "      <td>3.511306e-06</td>\n",
       "      <td>2.748508e+05</td>\n",
       "      <td>2.847943e+05</td>\n",
       "      <td>Louisiana</td>\n",
       "    </tr>\n",
       "    <tr>\n",
       "      <th>1828</th>\n",
       "      <td>2015-01-03</td>\n",
       "      <td>769.0</td>\n",
       "      <td>425.0</td>\n",
       "      <td>13732.5</td>\n",
       "      <td>13613.5</td>\n",
       "      <td>3.644165e-06</td>\n",
       "      <td>3.626276e-06</td>\n",
       "      <td>2.744113e+05</td>\n",
       "      <td>2.757650e+05</td>\n",
       "      <td>Louisiana</td>\n",
       "    </tr>\n",
       "    <tr>\n",
       "      <th>1829</th>\n",
       "      <td>2015-01-04</td>\n",
       "      <td>1127.0</td>\n",
       "      <td>428.0</td>\n",
       "      <td>10680.5</td>\n",
       "      <td>13737.5</td>\n",
       "      <td>5.077795e-06</td>\n",
       "      <td>3.583842e-06</td>\n",
       "      <td>1.969359e+05</td>\n",
       "      <td>2.790302e+05</td>\n",
       "      <td>Louisiana</td>\n",
       "    </tr>\n",
       "    <tr>\n",
       "      <th>1830</th>\n",
       "      <td>2015-01-05</td>\n",
       "      <td>873.0</td>\n",
       "      <td>393.0</td>\n",
       "      <td>11779.0</td>\n",
       "      <td>13974.0</td>\n",
       "      <td>4.656554e-06</td>\n",
       "      <td>3.720624e-06</td>\n",
       "      <td>2.147511e+05</td>\n",
       "      <td>2.687721e+05</td>\n",
       "      <td>Louisiana</td>\n",
       "    </tr>\n",
       "    <tr>\n",
       "      <th>...</th>\n",
       "      <td>...</td>\n",
       "      <td>...</td>\n",
       "      <td>...</td>\n",
       "      <td>...</td>\n",
       "      <td>...</td>\n",
       "      <td>...</td>\n",
       "      <td>...</td>\n",
       "      <td>...</td>\n",
       "      <td>...</td>\n",
       "      <td>...</td>\n",
       "    </tr>\n",
       "    <tr>\n",
       "      <th>157334</th>\n",
       "      <td>2015-12-27</td>\n",
       "      <td>153.0</td>\n",
       "      <td>65.0</td>\n",
       "      <td>45826.0</td>\n",
       "      <td>47158.0</td>\n",
       "      <td>8.448567e-07</td>\n",
       "      <td>7.662861e-07</td>\n",
       "      <td>1.183633e+06</td>\n",
       "      <td>1.304996e+06</td>\n",
       "      <td>mandate</td>\n",
       "    </tr>\n",
       "    <tr>\n",
       "      <th>157335</th>\n",
       "      <td>2015-12-28</td>\n",
       "      <td>208.0</td>\n",
       "      <td>93.0</td>\n",
       "      <td>38282.0</td>\n",
       "      <td>39126.5</td>\n",
       "      <td>1.083301e-06</td>\n",
       "      <td>1.011895e-06</td>\n",
       "      <td>9.231041e+05</td>\n",
       "      <td>9.882448e+05</td>\n",
       "      <td>mandate</td>\n",
       "    </tr>\n",
       "    <tr>\n",
       "      <th>157336</th>\n",
       "      <td>2015-12-29</td>\n",
       "      <td>213.0</td>\n",
       "      <td>113.0</td>\n",
       "      <td>37706.5</td>\n",
       "      <td>34469.0</td>\n",
       "      <td>1.114262e-06</td>\n",
       "      <td>1.221064e-06</td>\n",
       "      <td>8.974549e+05</td>\n",
       "      <td>8.189579e+05</td>\n",
       "      <td>mandate</td>\n",
       "    </tr>\n",
       "    <tr>\n",
       "      <th>157337</th>\n",
       "      <td>2015-12-30</td>\n",
       "      <td>147.0</td>\n",
       "      <td>78.0</td>\n",
       "      <td>49647.0</td>\n",
       "      <td>45172.0</td>\n",
       "      <td>7.548886e-07</td>\n",
       "      <td>8.361105e-07</td>\n",
       "      <td>1.324699e+06</td>\n",
       "      <td>1.196014e+06</td>\n",
       "      <td>mandate</td>\n",
       "    </tr>\n",
       "    <tr>\n",
       "      <th>157338</th>\n",
       "      <td>2015-12-31</td>\n",
       "      <td>169.0</td>\n",
       "      <td>85.0</td>\n",
       "      <td>43119.0</td>\n",
       "      <td>41031.5</td>\n",
       "      <td>8.663773e-07</td>\n",
       "      <td>8.817531e-07</td>\n",
       "      <td>1.154231e+06</td>\n",
       "      <td>1.134104e+06</td>\n",
       "      <td>mandate</td>\n",
       "    </tr>\n",
       "  </tbody>\n",
       "</table>\n",
       "<p>13607 rows × 10 columns</p>\n",
       "</div>"
      ],
      "text/plain": [
       "              date   count  count_no_rt     rank  rank_no_rt          freq  \\\n",
       "1826    2015-01-01   860.0        435.0  12328.0     12867.5  4.115597e-06   \n",
       "1827    2015-01-02   747.0        386.0  14021.0     14495.0  3.638337e-06   \n",
       "1828    2015-01-03   769.0        425.0  13732.5     13613.5  3.644165e-06   \n",
       "1829    2015-01-04  1127.0        428.0  10680.5     13737.5  5.077795e-06   \n",
       "1830    2015-01-05   873.0        393.0  11779.0     13974.0  4.656554e-06   \n",
       "...            ...     ...          ...      ...         ...           ...   \n",
       "157334  2015-12-27   153.0         65.0  45826.0     47158.0  8.448567e-07   \n",
       "157335  2015-12-28   208.0         93.0  38282.0     39126.5  1.083301e-06   \n",
       "157336  2015-12-29   213.0        113.0  37706.5     34469.0  1.114262e-06   \n",
       "157337  2015-12-30   147.0         78.0  49647.0     45172.0  7.548886e-07   \n",
       "157338  2015-12-31   169.0         85.0  43119.0     41031.5  8.663773e-07   \n",
       "\n",
       "          freq_no_rt          odds    odds_no_rt      ngram  \n",
       "1826    3.829555e-06  2.429781e+05  2.611269e+05  Louisiana  \n",
       "1827    3.511306e-06  2.748508e+05  2.847943e+05  Louisiana  \n",
       "1828    3.626276e-06  2.744113e+05  2.757650e+05  Louisiana  \n",
       "1829    3.583842e-06  1.969359e+05  2.790302e+05  Louisiana  \n",
       "1830    3.720624e-06  2.147511e+05  2.687721e+05  Louisiana  \n",
       "...              ...           ...           ...        ...  \n",
       "157334  7.662861e-07  1.183633e+06  1.304996e+06    mandate  \n",
       "157335  1.011895e-06  9.231041e+05  9.882448e+05    mandate  \n",
       "157336  1.221064e-06  8.974549e+05  8.189579e+05    mandate  \n",
       "157337  8.361105e-07  1.324699e+06  1.196014e+06    mandate  \n",
       "157338  8.817531e-07  1.154231e+06  1.134104e+06    mandate  \n",
       "\n",
       "[13607 rows x 10 columns]"
      ]
     },
     "execution_count": 17,
     "metadata": {},
     "output_type": "execute_result"
    }
   ],
   "source": [
    "#select only observations from between 2015 and 2016\n",
    "\n",
    "twitter[(twitter['date']>='2015-01-01') & (twitter['date']<'2016-01-01')]\n",
    "\n",
    "#notice each separate condition is in parentheses\n"
   ]
  },
  {
   "cell_type": "markdown",
   "metadata": {},
   "source": [
    "## Question 3\n",
    "\n",
    "Select only observations that occured before 2012 **or** after 2018"
   ]
  },
  {
   "cell_type": "code",
   "execution_count": 18,
   "metadata": {},
   "outputs": [],
   "source": [
    "#Your answer here v\n",
    "\n",
    "q3 = twitter[(twitter['date']<'2012-01-01') | (twitter['date']>'2018-01-01')]\n",
    "\n",
    "#Your answer here ^"
   ]
  },
  {
   "cell_type": "code",
   "execution_count": 19,
   "metadata": {},
   "outputs": [
    {
     "data": {
      "text/html": [
       "<p><strong><pre style='display: inline;'>q2</pre></strong> passed!</p>"
      ],
      "text/plain": [
       "q2 results: All test cases passed!"
      ]
     },
     "execution_count": 19,
     "metadata": {},
     "output_type": "execute_result"
    }
   ],
   "source": [
    "grader.check('q3')"
   ]
  },
  {
   "cell_type": "markdown",
   "metadata": {},
   "source": [
    "## A brief detour\n",
    "\n",
    "You can easily use pandas to calculate summary statistics\n",
    "\n",
    "mean: `df[column].mean()`\n",
    "\n",
    "median: `df[column].median()`\n",
    "\n",
    "sum: `df.column.sum()`\n",
    "\n",
    "variance: `df[column].var()`\n",
    "\n",
    "standard deviation: `df[column].std()`"
   ]
  },
  {
   "cell_type": "code",
   "execution_count": 20,
   "metadata": {},
   "outputs": [
    {
     "name": "stdout",
     "output_type": "stream",
     "text": [
      "Mean rank of \"Australia\":  2905.148448519041\n",
      "Standard deviation in rank of \"Australia\":  709.12\n"
     ]
    }
   ],
   "source": [
    "print('Mean rank of \"Australia\": ',twitter[twitter['ngram']=='Australia']['rank'].mean())\n",
    "\n",
    "print('Standard deviation in rank of \"Australia\": ', format(twitter[twitter['ngram']=='Australia']['rank'].std(ddof=1),'.2f'))"
   ]
  },
  {
   "cell_type": "markdown",
   "metadata": {},
   "source": [
    "## Part 5: Visualization and research ideation"
   ]
  },
  {
   "cell_type": "markdown",
   "metadata": {},
   "source": [
    "## Question 4\n",
    "\n",
    "Plot the rank of `'Australia'` on Twitter from 2020 to the present.\n",
    "\n",
    "First, we need to select the appropriate data from our dataframe:"
   ]
  },
  {
   "cell_type": "code",
   "execution_count": 36,
   "metadata": {
    "scrolled": true
   },
   "outputs": [],
   "source": [
    "#Select the appropriate data for the above question\n",
    "\n",
    "### Your answer here v\n",
    "\n",
    "q4 = twitter[(twitter['date']>='2020-01-01') & (twitter['ngram']=='Australia')]\\\n",
    "[['date','rank']]\n",
    "\n",
    "### Your answer here ^\n"
   ]
  },
  {
   "cell_type": "code",
   "execution_count": 37,
   "metadata": {},
   "outputs": [
    {
     "data": {
      "text/html": [
       "<p><strong><pre style='display: inline;'>q4</pre></strong> passed!</p>"
      ],
      "text/plain": [
       "q4 results: All test cases passed!"
      ]
     },
     "execution_count": 37,
     "metadata": {},
     "output_type": "execute_result"
    }
   ],
   "source": [
    "grader.check('q4')"
   ]
  },
  {
   "cell_type": "code",
   "execution_count": 38,
   "metadata": {},
   "outputs": [
    {
     "data": {
      "text/plain": [
       "<matplotlib.legend.Legend at 0x7fe33f413400>"
      ]
     },
     "execution_count": 38,
     "metadata": {},
     "output_type": "execute_result"
    },
    {
     "data": {
      "image/png": "[encoded data removed]",
      "text/plain": [
       "<Figure size 864x414 with 1 Axes>"
      ]
     },
     "metadata": {
      "needs_background": "light"
     },
     "output_type": "display_data"
    }
   ],
   "source": [
    "### Plotting python code\n",
    "\n",
    "#import plotting library\n",
    "from matplotlib import pyplot as plt\n",
    "from matplotlib import dates as mdates\n",
    "\n",
    "#create a blank figure\n",
    "fig, ax = plt.subplots(figsize=(12, 5.75))\n",
    "\n",
    "df = q4.set_index('date')\n",
    "\n",
    "\n",
    "ax.plot(df.index, df['rank'],label = 'Australia')\n",
    "ax.set_xlabel('Date')\n",
    "ax.set_ylabel('Rank')\n",
    "# set ticks to monthly\n",
    "ax.xaxis.set_major_locator(mdates.MonthLocator(interval=1))\n",
    "# format ticks\n",
    "plt.gcf().autofmt_xdate()\n",
    "# invert y axis (rank 1 should be on top)\n",
    "plt.gca().invert_yaxis()\n",
    "#display the legend\n",
    "plt.legend(bbox_to_anchor=(1.04,1), loc=\"upper left\")\n",
    "#ax.set_yscale('log')"
   ]
  },
  {
   "cell_type": "markdown",
   "metadata": {},
   "source": [
    "### Making visualisations more intelligible\n",
    "\n",
    "This plot looks a bit messy. One thing we can do is implement a **rolling average**. We can take the mean of a sliding window within the data. This will give us a plot that looks less noisy, but preserves the overall trends."
   ]
  },
  {
   "cell_type": "code",
   "execution_count": 42,
   "metadata": {},
   "outputs": [
    {
     "data": {
      "text/plain": [
       "0          NaN\n",
       "1          NaN\n",
       "2          NaN\n",
       "3          NaN\n",
       "4          NaN\n",
       "5          NaN\n",
       "6          NaN\n",
       "7          NaN\n",
       "8          NaN\n",
       "9          NaN\n",
       "10         NaN\n",
       "11         NaN\n",
       "12         NaN\n",
       "13    12869.00\n",
       "14    12869.00\n",
       "15    12869.00\n",
       "16    12869.00\n",
       "17    12869.00\n",
       "18    12981.75\n",
       "19    12708.50\n",
       "20    12708.50\n",
       "21    12489.50\n",
       "22    12489.50\n",
       "23    12222.00\n",
       "24    12215.75\n",
       "25    12215.75\n",
       "26    11532.50\n",
       "27    12215.75\n",
       "Name: rank, dtype: float64"
      ]
     },
     "execution_count": 42,
     "metadata": {},
     "output_type": "execute_result"
    }
   ],
   "source": [
    "#show how .rolling() changes the dataframe\n",
    "twitter['rank'].rolling(14).median().head(28)"
   ]
  },
  {
   "cell_type": "code",
   "execution_count": 43,
   "metadata": {},
   "outputs": [],
   "source": [
    "#compute rolling 14-day average (mean)\n",
    "df = q4.set_index(pd.DatetimeIndex(q4['date']), drop=True)\n",
    "df = df.rolling('14d').mean()"
   ]
  },
  {
   "cell_type": "code",
   "execution_count": 44,
   "metadata": {},
   "outputs": [
    {
     "data": {
      "text/plain": [
       "<matplotlib.legend.Legend at 0x7fe33f513700>"
      ]
     },
     "execution_count": 44,
     "metadata": {},
     "output_type": "execute_result"
    },
    {
     "data": {
      "image/png": "[encoded data removed]",
      "text/plain": [
       "<Figure size 864x414 with 1 Axes>"
      ]
     },
     "metadata": {
      "needs_background": "light"
     },
     "output_type": "display_data"
    }
   ],
   "source": [
    "### Plotting python code\n",
    "fig, ax = plt.subplots(figsize=(12, 5.75))\n",
    "\n",
    "#plotting the data\n",
    "ax.plot(df.index, df['rank'], label = 'Australia')\n",
    "ax.set_xlabel('Date')\n",
    "ax.set_ylabel('Rank')\n",
    "# set ticks to monthly\n",
    "ax.xaxis.set_major_locator(mdates.MonthLocator(interval=1))\n",
    "\n",
    "# rotate ticks\n",
    "plt.gcf().autofmt_xdate()\n",
    "# invert y axis so rank 1 is on top\n",
    "plt.gca().invert_yaxis()\n",
    "# display legend\n",
    "plt.legend(bbox_to_anchor=(1.04,1), loc=\"upper left\")\n"
   ]
  },
  {
   "cell_type": "markdown",
   "metadata": {},
   "source": [
    "## Question 5\n",
    "\n",
    "Formulate your own simple research question using **up to five** of the available ngrams."
   ]
  },
  {
   "cell_type": "code",
   "execution_count": 47,
   "metadata": {
    "scrolled": true
   },
   "outputs": [
    {
     "data": {
      "text/plain": [
       "Text(0, 0.5, 'Rank')"
      ]
     },
     "execution_count": 47,
     "metadata": {},
     "output_type": "execute_result"
    },
    {
     "data": {
      "image/png": "[encoded data removed]",
      "text/plain": [
       "<Figure size 864x414 with 1 Axes>"
      ]
     },
     "metadata": {
      "needs_background": "light"
     },
     "output_type": "display_data"
    }
   ],
   "source": [
    "    \n",
    "### Your answer here v\n",
    "\n",
    "ngrams = ['vaccine', 'anti-vax', 'Pfizer', 'Johnson', 'Moderna', 'covid']\n",
    "\n",
    "q5 = twitter[(twitter['date']>='2020-01-01') & (twitter['ngram'].isin(ngrams))]\\\n",
    "        [['date','ngram','rank']]\n",
    "\n",
    "### Your answer here ^\n",
    "\n",
    "\n",
    "\n",
    "#plotting python\n",
    "\n",
    "#create empty figure\n",
    "fig, ax = plt.subplots(figsize=(12, 5.75))\n",
    "\n",
    "# plot each ngram separately\n",
    "for ngram in set(q5['ngram']):\n",
    "    # implement rolling 14-day average\n",
    "    q5 = q5.set_index(pd.DatetimeIndex(q5['date']), drop=True)\n",
    "    df_rolling = q5[q5['ngram']==ngram].rolling(14).mean()\n",
    "    # plot ngram and date\n",
    "    ax.plot(df_rolling.index, df_rolling['rank'], label = ngram)\n",
    "    ax.xaxis.set_major_locator(mdates.MonthLocator(interval=1))\n",
    "\n",
    "#log axis helps keep high and low ranks visible\n",
    "plt.yscale('log')\n",
    "#formatting ticks\n",
    "plt.gcf().autofmt_xdate()\n",
    "plt.gca().invert_yaxis() \n",
    "#display legend\n",
    "plt.legend(bbox_to_anchor=(1.04,1), loc=\"upper left\")\n",
    "plt.xlabel('Date')\n",
    "plt.ylabel('Rank')\n"
   ]
  },
  {
   "cell_type": "markdown",
   "metadata": {},
   "source": [
    "## Question 6\n",
    "\n",
    "Is there any information shown in the above plots that could help you answer your research question?\n",
    "\n",
    "Can you think of any possible explanation for the behavior of your chosen ngrams?"
   ]
  },
  {
   "cell_type": "markdown",
   "metadata": {},
   "source": [
    "Type your answer to q6 in this cell"
   ]
  }
 ],
 "metadata": {
  "kernelspec": {
   "display_name": "Python 3",
   "language": "python",
   "name": "python3"
  },
  "language_info": {
   "codemirror_mode": {
    "name": "ipython",
    "version": 3
   },
   "file_extension": ".py",
   "mimetype": "text/x-python",
   "name": "python",
   "nbconvert_exporter": "python",
   "pygments_lexer": "ipython3",
   "version": "3.8.5"
  }
 },
 "nbformat": 4,
 "nbformat_minor": 4
}
